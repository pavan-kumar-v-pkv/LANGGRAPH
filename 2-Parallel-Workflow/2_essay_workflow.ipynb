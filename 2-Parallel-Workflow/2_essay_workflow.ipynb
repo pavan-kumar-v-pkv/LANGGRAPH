{
 "cells": [
  {
   "cell_type": "code",
   "execution_count": 16,
   "id": "ecbc1969",
   "metadata": {},
   "outputs": [],
   "source": [
    "from langgraph.graph import StateGraph, START, END\n",
    "from typing import TypedDict, Annotated\n",
    "from langchain_openai import ChatOpenAI\n",
    "from dotenv import load_dotenv\n",
    "from pydantic import BaseModel, Field\n",
    "import operator"
   ]
  },
  {
   "cell_type": "code",
   "execution_count": 17,
   "id": "db0aef35",
   "metadata": {},
   "outputs": [],
   "source": [
    "load_dotenv()  # Load environment variables from .env file\n",
    "llm = ChatOpenAI(model=\"gpt-4o-mini\", temperature=0) # For strutured output"
   ]
  },
  {
   "cell_type": "code",
   "execution_count": 18,
   "id": "13dd184c",
   "metadata": {},
   "outputs": [],
   "source": [
    "class EvaluationSchema(BaseModel):\n",
    "    feedback: str = Field(description=\"Detailed feedback on the essay\")\n",
    "    score: int = Field(description=\"Score out of 10\", ge=0, le=10)"
   ]
  },
  {
   "cell_type": "code",
   "execution_count": 19,
   "id": "8eaa2334",
   "metadata": {},
   "outputs": [],
   "source": [
    "structured_llm = llm.with_structured_output(EvaluationSchema)"
   ]
  },
  {
   "cell_type": "code",
   "execution_count": 20,
   "id": "c3c66401",
   "metadata": {},
   "outputs": [],
   "source": [
    "essay = \"\"\"\n",
    "The Future Is Now: How India Can Lead in the Age of AI\n",
    "\n",
    "Artificial Intelligence in India\n",
    "Artificial Intelligence (AI) is increasingly becoming a part of our daily lives, influencing services, business decisions, and human interaction with technology.\n",
    "\n",
    "Opportunities in India\n",
    "India has a robust digital ecosystem with over 800 million internet users and a strong fintech infrastructure.\n",
    "Initiatives like Digital India, ONDC, and Aadhaar provide a foundation for digital governance.\n",
    "The challenge lies in aligning current systems with AI capabilities to realize potential transformations.\n",
    "Future-Ready Workforce\n",
    "The impact of AI on jobs is significant but not apocalyptic; it will lead to the creation of new roles, particularly in:\n",
    "\n",
    "Data science\n",
    "Machine learning operations\n",
    "Ethical AI compliance\n",
    "AI integration in industries like healthcare and agriculture\n",
    "Focus on up-skilling and re-skilling, especially in Tier II and Tier III cities, is critical to ensure equitable benefits from AI advancements.\n",
    "\n",
    "Educational and Research Evolution\n",
    "A shift towards an interdisciplinary approach in AI education is needed, combining technology, ethics, policy, and human behavior.\n",
    "AI education needs to be democratized to reach schools and support diverse research beyond elite institutions.\n",
    "International collaboration can help India stay competitive in the knowledge economy.\n",
    "Indigenous and Inclusive AI Journey\n",
    "India's diversity offers an advantage for AI development:\n",
    "\n",
    "Custom AI solutions can address issues in Indian languages, rural healthcare, local governance, and agriculture.\n",
    "Support for indigenous start-ups and public projects to innovate with contextual applicability is crucial.\n",
    "Strategic Opportunity\n",
    "India stands at a strategic crossroads. To become a leader in inclusive, ethical AI innovation, the nation needs:\n",
    "\n",
    "Clear policy direction\n",
    "Capacity development\n",
    "Investment in research\n",
    "Sectoral convergence\n",
    "This is an opportunity for India to lead in the AI domain rather than follow.\n",
    "\"\"\""
   ]
  },
  {
   "cell_type": "code",
   "execution_count": 21,
   "id": "0b5f3a8e",
   "metadata": {},
   "outputs": [
    {
     "data": {
      "text/plain": [
       "EvaluationSchema(feedback=\"The essay presents a clear and structured argument about India's potential to lead in the field of Artificial Intelligence. The language is generally formal and appropriate for an academic or professional audience. However, there are areas for improvement:\\n\\n1. **Clarity and Depth**: While the essay outlines several key points, some sections could benefit from more detailed explanations. For instance, the mention of initiatives like Digital India and ONDC could include specific examples of their impact on AI development.\\n\\n2. **Transitions**: The flow between sections could be improved with better transitional phrases. This would help guide the reader through the argument more smoothly.\\n\\n3. **Variety in Sentence Structure**: The essay tends to use a similar sentence structure throughout, which can make it feel monotonous. Incorporating a mix of short and long sentences could enhance readability and engagement.\\n\\n4. **Conclusion**: The essay lacks a strong concluding statement that summarizes the key points and reinforces the main argument. A compelling conclusion would leave a lasting impression on the reader.\\n\\n5. **Grammar and Punctuation**: There are minor grammatical errors and punctuation issues that need to be addressed for a more polished presentation.\\n\\nOverall, the essay effectively communicates the potential of AI in India but could be strengthened with more depth, improved transitions, varied sentence structures, and a stronger conclusion.\", score=7)"
      ]
     },
     "execution_count": 21,
     "metadata": {},
     "output_type": "execute_result"
    }
   ],
   "source": [
    "prompt = f\"Evaluate the language quality of the essay and provide a feedback and assign a score out of 10 \\n {essay}\"\n",
    "structured_llm.invoke(prompt)"
   ]
  },
  {
   "cell_type": "code",
   "execution_count": 22,
   "id": "9187bf12",
   "metadata": {},
   "outputs": [],
   "source": [
    "class EssayState(TypedDict):\n",
    "    essay: str\n",
    "    lang_feedback: str\n",
    "    analysis_feedback: str\n",
    "    clarity_feedback: str\n",
    "    overall_feedback: str\n",
    "    individual_scores: Annotated[list[int], operator.add]  # Remove Field - just use operator.add for list concatenation\n",
    "    avg_score: float"
   ]
  },
  {
   "cell_type": "code",
   "execution_count": 23,
   "id": "c9a1ca4d",
   "metadata": {},
   "outputs": [],
   "source": [
    "def evaluate_language(state: EssayState):\n",
    "    prompt = f\"Evaluate the language quality of the essay and provide a feedback and assign a score out of 10 \\n {state['essay']}\"\n",
    "    result = structured_llm.invoke(prompt)\n",
    "    return {'lang_feedback': result.feedback, 'individual_scores': [result.score]}\n",
    "\n",
    "def evaluate_analysis(state: EssayState):\n",
    "    prompt = f\"Evaluate the depth of analysis in the essay and provide a feedback and assign a score out of 10 \\n {state['essay']}\"\n",
    "    result = structured_llm.invoke(prompt)\n",
    "    return {'analysis_feedback': result.feedback, 'individual_scores': [result.score]}\n",
    "\n",
    "def evaluate_clarity(state: EssayState):\n",
    "    prompt = f\"Evaluate the clarity and coherence of the essay and provide a feedback and assign a score out of 10 \\n {state['essay']}\"\n",
    "    result = structured_llm.invoke(prompt)\n",
    "    return {'clarity_feedback': result.feedback, 'individual_scores': [result.score]}\n",
    "\n",
    "def final_evaluation(state: EssayState):\n",
    "    # summary feedback\n",
    "    prompt = f'Based on the following feedbacks, provide an overall feedback for the essay:\\n Language Feedback: {state[\"lang_feedback\"]}\\n Analysis Feedback: {state[\"analysis_feedback\"]}\\n Clarity Feedback: {state[\"clarity_feedback\"]}'\n",
    "    overall_feedback = llm.invoke(prompt).content\n",
    "    # average score\n",
    "    avg_score = sum(state['individual_scores']) / len(state['individual_scores'])\n",
    "    return {'overall_feedback': overall_feedback, 'avg_score': avg_score}"
   ]
  },
  {
   "cell_type": "code",
   "execution_count": 24,
   "id": "a7d2c482",
   "metadata": {},
   "outputs": [],
   "source": [
    "graph = StateGraph(EssayState)\n",
    "\n",
    "graph.add_node('evaluate_language', evaluate_language)\n",
    "graph.add_node('evaluate_analysis', evaluate_analysis)\n",
    "graph.add_node('evaluate_clarity', evaluate_clarity)\n",
    "graph.add_node('final_evaluation', final_evaluation)\n",
    "\n",
    "graph.add_edge(START, 'evaluate_language')\n",
    "graph.add_edge(START, 'evaluate_analysis')\n",
    "graph.add_edge(START, 'evaluate_clarity')\n",
    "\n",
    "graph.add_edge('evaluate_language', 'final_evaluation')\n",
    "graph.add_edge('evaluate_analysis', 'final_evaluation')\n",
    "graph.add_edge('evaluate_clarity', 'final_evaluation')\n",
    "graph.add_edge('final_evaluation', END)\n",
    "\n",
    "workflow = graph.compile()"
   ]
  },
  {
   "cell_type": "code",
   "execution_count": 25,
   "id": "8cd592df",
   "metadata": {},
   "outputs": [
    {
     "data": {
      "image/png": "[encoded data removed]",
      "text/plain": [
       "<langgraph.graph.state.CompiledStateGraph object at 0x11f3aaf00>"
      ]
     },
     "execution_count": 25,
     "metadata": {},
     "output_type": "execute_result"
    }
   ],
   "source": [
    "workflow"
   ]
  },
  {
   "cell_type": "code",
   "execution_count": 26,
   "id": "6d38632c",
   "metadata": {},
   "outputs": [
    {
     "name": "stdout",
     "output_type": "stream",
     "text": [
      "Overall Score: 7.33/10\n",
      "\n",
      "Individual Scores: [7, 8, 7]\n",
      "\n",
      "============================================================\n",
      "OVERALL FEEDBACK:\n",
      "============================================================\n",
      "**Overall Feedback for the Essay:**\n",
      "\n",
      "The essay presents a well-structured and coherent argument regarding India's potential to lead in the field of Artificial Intelligence (AI). It effectively outlines various critical aspects, including the digital ecosystem, workforce implications, educational needs, and the importance of inclusivity in AI development. The language used is generally formal and appropriate for an academic audience, contributing to the overall clarity of the argument.\n",
      "\n",
      "However, there are several areas where the essay could be improved to enhance its effectiveness:\n",
      "\n",
      "1. **Clarity and Conciseness**: While the essay is informative, some sentences could be streamlined for better readability. Simplifying complex phrases will help maintain the reader's engagement and ensure that the key points are easily understood.\n",
      "\n",
      "2. **Transitions and Flow**: The flow between sections could be improved with the use of more effective transitional phrases. This would help guide the reader through the various points being made and create a more cohesive narrative.\n",
      "\n",
      "3. **Supporting Evidence**: The essay mentions several initiatives and opportunities but lacks specific examples or data to substantiate its claims. Incorporating statistics, case studies, or examples of successful AI initiatives in India would significantly strengthen the argument and provide a more compelling case for India's potential in this field.\n",
      "\n",
      "4. **Depth of Analysis**: While the essay outlines opportunities and challenges, it could benefit from a deeper exploration of these areas. Expanding the discussion on policy direction, investment, and potential obstacles, along with strategies for overcoming them, would add valuable depth to the analysis.\n",
      "\n",
      "5. **Engaging Introduction and Conclusion**: The introduction could be more engaging to capture the reader's interest from the outset. Similarly, the conclusion should summarize the key points more effectively and reinforce the call to action for India to embrace its AI potential, providing a stronger finish to the essay.\n",
      "\n",
      "6. **Grammar and Syntax**: Minor grammatical issues, such as inconsistent use of commas and sentence fragments, should be addressed to enhance the overall professionalism of the writing.\n",
      "\n",
      "In summary, the essay provides a solid foundation for discussing India's potential in AI but would benefit from enhanced clarity, supporting evidence, and a more polished conclusion. By addressing these areas, the essay can become a more persuasive and impactful piece.\n"
     ]
    }
   ],
   "source": [
    "initial_state = {\n",
    "    'essay': essay,\n",
    "    'individual_scores': []  # Initialize empty list for score accumulation\n",
    "}\n",
    "\n",
    "result = workflow.invoke(initial_state)\n",
    "print(f\"Overall Score: {result['avg_score']:.2f}/10\\n\")\n",
    "print(f\"Individual Scores: {result['individual_scores']}\\n\")\n",
    "print(\"=\" * 60)\n",
    "print(\"OVERALL FEEDBACK:\")\n",
    "print(\"=\" * 60)\n",
    "print(result['overall_feedback'])"
   ]
  },
  {
   "cell_type": "code",
   "execution_count": null,
   "id": "c8efb804",
   "metadata": {},
   "outputs": [],
   "source": []
  }
 ],
 "metadata": {
  "kernelspec": {
   "display_name": "venv",
   "language": "python",
   "name": "python3"
  },
  "language_info": {
   "codemirror_mode": {
    "name": "ipython",
    "version": 3
   },
   "file_extension": ".py",
   "mimetype": "text/x-python",
   "name": "python",
   "nbconvert_exporter": "python",
   "pygments_lexer": "ipython3",
   "version": "3.12.7"
  }
 },
 "nbformat": 4,
 "nbformat_minor": 5
}
