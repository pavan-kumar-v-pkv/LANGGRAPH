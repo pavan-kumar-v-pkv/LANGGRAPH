{
 "cells": [
  {
   "cell_type": "code",
   "execution_count": 22,
   "id": "2617594c",
   "metadata": {},
   "outputs": [],
   "source": [
    "from langgraph.graph import StateGraph, START, END\n",
    "from typing import TypedDict"
   ]
  },
  {
   "cell_type": "code",
   "execution_count": 23,
   "id": "e6d6d437",
   "metadata": {},
   "outputs": [],
   "source": [
    "class BatsmanState(TypedDict):\n",
    "    name: str\n",
    "    runs: int\n",
    "    balls_faced: int\n",
    "    fours: int\n",
    "    sixes: int\n",
    "\n",
    "    sr: float  # strike rate\n",
    "    bpb: float  # balls per boundary\n",
    "    boundary_percent: float  # percentage of runs from boundaries\n",
    "    summary: str"
   ]
  },
  {
   "cell_type": "markdown",
   "id": "dada0890",
   "metadata": {},
   "source": [
    "## How LangGraph Updates State\n",
    "\n",
    "**Important Concept**: When you return a dictionary from a node function, LangGraph **automatically merges** it into the state.\n",
    "\n",
    "### What happens under the hood:\n",
    "\n",
    "```python\n",
    "# When you write:\n",
    "def calculate_sr(state: BatsmanState) -> BatsmanState:\n",
    "    sr = (state['runs'] / state['balls_faced']) * 100\n",
    "    return {'sr': sr}  # ← Return partial dict\n",
    "\n",
    "# LangGraph does this internally:\n",
    "# 1. Calls your function: result = calculate_sr(current_state)\n",
    "# 2. Merges the result: current_state.update(result)\n",
    "# 3. Passes updated state to next node\n",
    "```\n",
    "\n",
    "### Execution Flow:\n",
    "\n",
    "1. **Input State**: `{'name': 'Virat', 'runs': 82, 'balls_faced': 53, 'fours': 8, 'sixes': 2}`\n",
    "\n",
    "2. **After calculate_sr** (parallel): State gets `sr` field added\n",
    "   - `{'name': 'Virat', 'runs': 82, ..., 'sr': 154.72}`\n",
    "\n",
    "3. **After calculate_bpb** (parallel): State gets `bpb` field added\n",
    "   - `{'name': 'Virat', 'runs': 82, ..., 'sr': 154.72, 'bpb': 5.30}`\n",
    "\n",
    "4. **After calculate_boundary_percent** (parallel): State gets `boundary_percent` field added\n",
    "   - `{'name': 'Virat', ..., 'sr': 154.72, 'bpb': 5.30, 'boundary_percent': 53.66}`\n",
    "\n",
    "5. **After summary**: State gets `summary` field added\n",
    "   - Final complete state with all fields populated\n",
    "\n",
    "**The merge happens automatically in the `workflow.compile()` execution engine!**"
   ]
  },
  {
   "cell_type": "code",
   "execution_count": 24,
   "id": "842596a0",
   "metadata": {},
   "outputs": [],
   "source": [
    "def calculate_sr(state: BatsmanState) -> BatsmanState:\n",
    "    sr = (state['runs'] / state['balls_faced']) * 100 if state['balls_faced'] > 0 else 0\n",
    "    return {'sr': sr}"
   ]
  },
  {
   "cell_type": "code",
   "execution_count": 25,
   "id": "6ad07bc9",
   "metadata": {},
   "outputs": [],
   "source": [
    "def calculate_bpb(state: BatsmanState) -> BatsmanState:\n",
    "    total_boundaries = state['fours'] + state['sixes']\n",
    "    bpb= (state['balls_faced'] / total_boundaries) if total_boundaries > 0 else float('inf')\n",
    "    return {'bpb': bpb}"
   ]
  },
  {
   "cell_type": "code",
   "execution_count": 26,
   "id": "ad5adf5d",
   "metadata": {},
   "outputs": [],
   "source": [
    "def calculate_boundary_percent(state: BatsmanState) -> BatsmanState:\n",
    "    boundary_runs = (state['fours'] * 4) + (state['sixes'] * 6)\n",
    "    boundary_percent = (boundary_runs / state['runs']) * 100 if state['runs'] > 0 else 0\n",
    "    return {'boundary_percent': boundary_percent}"
   ]
  },
  {
   "cell_type": "code",
   "execution_count": 27,
   "id": "ca5a55d1",
   "metadata": {},
   "outputs": [],
   "source": [
    "def summary(state: BatsmanState) -> BatsmanState:\n",
    "    summary_text = f\"{state['name']} scored {state['runs']} runs off {state['balls_faced']} balls \"\n",
    "    summary_text += f\"with a strike rate of {state['sr']:.2f}, \"\n",
    "    summary_text += f\"balls per boundary of {state['bpb']:.2f}, \"\n",
    "    summary_text += f\"and {state['boundary_percent']:.2f}% of runs from boundaries.\"\n",
    "    return {'summary': summary_text}"
   ]
  },
  {
   "cell_type": "code",
   "execution_count": 28,
   "id": "a7f5598e",
   "metadata": {},
   "outputs": [],
   "source": [
    "graph = StateGraph(BatsmanState)\n",
    "\n",
    "graph.add_node('calculate_sr', calculate_sr)\n",
    "graph.add_node('calculate_bpb', calculate_bpb)\n",
    "graph.add_node('calculate_boundary_percent', calculate_boundary_percent)\n",
    "graph.add_node('summary', summary)\n",
    "\n",
    "graph.add_edge(START, 'calculate_sr')\n",
    "graph.add_edge(START, 'calculate_bpb')\n",
    "graph.add_edge(START, 'calculate_boundary_percent')\n",
    "\n",
    "graph.add_edge('calculate_sr', 'summary')\n",
    "graph.add_edge('calculate_bpb', 'summary')\n",
    "graph.add_edge('calculate_boundary_percent', 'summary')\n",
    "\n",
    "graph.add_edge('summary', END)\n",
    "\n",
    "workflow = graph.compile()"
   ]
  },
  {
   "cell_type": "code",
   "execution_count": 29,
   "id": "d4f22315",
   "metadata": {},
   "outputs": [
    {
     "name": "stdout",
     "output_type": "stream",
     "text": [
      "                                        +-----------+                                 \n",
      "                                       *| __start__ |*                                \n",
      "                                  ***** +-----------+ *****                           \n",
      "                            ******              *          ******                     \n",
      "                       *****                     *               *****                \n",
      "                    ***                          *                    ***             \n",
      "+----------------------------+           +---------------+           +--------------+ \n",
      "| calculate_boundary_percent |           | calculate_bpb |           | calculate_sr | \n",
      "+----------------------------+           +---------------+       ****+--------------+ \n",
      "                            ******              *          ******                     \n",
      "                                  *****        *      *****                           \n",
      "                                       ***     *   ***                                \n",
      "                                        +---------+                                   \n",
      "                                        | summary |                                   \n",
      "                                        +---------+                                   \n",
      "                                              *                                       \n",
      "                                              *                                       \n",
      "                                              *                                       \n",
      "                                        +---------+                                   \n",
      "                                        | __end__ |                                   \n",
      "                                        +---------+                                   \n"
     ]
    }
   ],
   "source": [
    "# Display the graph structure as ASCII text\n",
    "print(workflow.get_graph().draw_ascii())"
   ]
  },
  {
   "cell_type": "code",
   "execution_count": 30,
   "id": "ee5b5d95",
   "metadata": {},
   "outputs": [
    {
     "name": "stdout",
     "output_type": "stream",
     "text": [
      "Virat Kohli scored 82 runs off 53 balls with a strike rate of 154.72, balls per boundary of 5.30, and 53.66% of runs from boundaries.\n"
     ]
    }
   ],
   "source": [
    "# Test the workflow with sample data\n",
    "input_state = {\n",
    "    'name': 'Virat Kohli',\n",
    "    'runs': 82,\n",
    "    'balls_faced': 53,\n",
    "    'fours': 8,\n",
    "    'sixes': 2\n",
    "}\n",
    "\n",
    "result = workflow.invoke(input_state)\n",
    "print(result['summary'])"
   ]
  },
  {
   "cell_type": "code",
   "execution_count": null,
   "id": "022e3282",
   "metadata": {},
   "outputs": [],
   "source": []
  }
 ],
 "metadata": {
  "kernelspec": {
   "display_name": "venv",
   "language": "python",
   "name": "python3"
  },
  "language_info": {
   "codemirror_mode": {
    "name": "ipython",
    "version": 3
   },
   "file_extension": ".py",
   "mimetype": "text/x-python",
   "name": "python",
   "nbconvert_exporter": "python",
   "pygments_lexer": "ipython3",
   "version": "3.12.7"
  }
 },
 "nbformat": 4,
 "nbformat_minor": 5
}
