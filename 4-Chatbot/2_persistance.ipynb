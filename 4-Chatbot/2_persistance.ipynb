{
 "cells": [
  {
   "cell_type": "code",
   "execution_count": 1,
   "id": "97fd89a9",
   "metadata": {},
   "outputs": [],
   "source": [
    "from langgraph.graph import StateGraph, START, END\n",
    "from typing import TypedDict\n",
    "from langchain_openai import ChatOpenAI\n",
    "from dotenv import load_dotenv\n",
    "from langgraph.checkpoint.memory import InMemorySaver"
   ]
  },
  {
   "cell_type": "code",
   "execution_count": 2,
   "id": "fdd16a3e",
   "metadata": {},
   "outputs": [],
   "source": [
    "load_dotenv()  # take environment variables from .env.\n",
    "llm = ChatOpenAI(model=\"gpt-4o-mini\", temperature=0)"
   ]
  },
  {
   "cell_type": "code",
   "execution_count": 3,
   "id": "58c96729",
   "metadata": {},
   "outputs": [],
   "source": [
    "class JokeState(TypedDict):\n",
    "    topic: str\n",
    "    joke: str\n",
    "    explanation: str"
   ]
  },
  {
   "cell_type": "code",
   "execution_count": 4,
   "id": "4ebb0e2b",
   "metadata": {},
   "outputs": [],
   "source": [
    "def generate_joke(state: JokeState):\n",
    "    prompt = f'generate a joke on the topic {state[\"topic\"]}'\n",
    "    response = llm.invoke(prompt).content\n",
    "    return {\"joke\": response}\n",
    "\n",
    "def generate_explanation(state: JokeState):\n",
    "    prompt = f'Explain the following joke: {state[\"joke\"]}'\n",
    "    response = llm.invoke(prompt).content\n",
    "    return {\"explanation\": response}"
   ]
  },
  {
   "cell_type": "code",
   "execution_count": 5,
   "id": "4e99b35a",
   "metadata": {},
   "outputs": [],
   "source": [
    "graph = StateGraph(JokeState)\n",
    "\n",
    "graph.add_node('generate_joke', generate_joke)\n",
    "graph.add_node('generate_explanation', generate_explanation)\n",
    "\n",
    "graph.add_edge(START, 'generate_joke')\n",
    "graph.add_edge('generate_joke', 'generate_explanation')\n",
    "graph.add_edge('generate_explanation', END)\n",
    "\n",
    "checkpointer = InMemorySaver()\n",
    "\n",
    "workflow = graph.compile(checkpointer=checkpointer)"
   ]
  },
  {
   "cell_type": "code",
   "execution_count": 6,
   "id": "bb652822",
   "metadata": {},
   "outputs": [
    {
     "data": {
      "text/plain": [
       "{'topic': 'burgers',\n",
       " 'joke': 'Why did the burger go to the gym?\\n\\nBecause it wanted to get better buns! 🍔💪',\n",
       " 'explanation': 'This joke plays on a double meaning of the word \"buns.\" In the context of a burger, \"buns\" refers to the bread that holds the burger together. However, \"buns\" is also a colloquial term for a person\\'s buttocks, often associated with fitness and body shape. \\n\\nThe humor comes from the unexpected twist: the burger, a food item, is anthropomorphized as if it has personal goals and desires, like wanting to improve its physical appearance. The punchline suggests that the burger wants to \"get better buns\" in both senses—having tastier bread and, humorously, a better-looking backside. The combination of food and fitness creates a lighthearted and playful image, making the joke amusing.'}"
      ]
     },
     "execution_count": 6,
     "metadata": {},
     "output_type": "execute_result"
    }
   ],
   "source": [
    "config1 = {\"configurable\": {\"thread_id\": \"1\"}}\n",
    "workflow.invoke({\"topic\": \"burgers\"}, config=config1)"
   ]
  },
  {
   "cell_type": "code",
   "execution_count": 7,
   "id": "c4e27ea7",
   "metadata": {},
   "outputs": [
    {
     "data": {
      "text/plain": [
       "StateSnapshot(values={'topic': 'burgers', 'joke': 'Why did the burger go to the gym?\\n\\nBecause it wanted to get better buns! 🍔💪', 'explanation': 'This joke plays on a double meaning of the word \"buns.\" In the context of a burger, \"buns\" refers to the bread that holds the burger together. However, \"buns\" is also a colloquial term for a person\\'s buttocks, often associated with fitness and body shape. \\n\\nThe humor comes from the unexpected twist: the burger, a food item, is anthropomorphized as if it has personal goals and desires, like wanting to improve its physical appearance. The punchline suggests that the burger wants to \"get better buns\" in both senses—having tastier bread and, humorously, a better-looking backside. The combination of food and fitness creates a lighthearted and playful image, making the joke amusing.'}, next=(), config={'configurable': {'thread_id': '1', 'checkpoint_ns': '', 'checkpoint_id': '1f0a420d-b8fb-6d84-8002-c784fbbe1ac9'}}, metadata={'source': 'loop', 'step': 2, 'parents': {}}, created_at='2025-10-08T08:29:07.802427+00:00', parent_config={'configurable': {'thread_id': '1', 'checkpoint_ns': '', 'checkpoint_id': '1f0a420d-8a2f-6b18-8001-43f565e19f12'}}, tasks=(), interrupts=())"
      ]
     },
     "execution_count": 7,
     "metadata": {},
     "output_type": "execute_result"
    }
   ],
   "source": [
    "workflow.get_state(config1)"
   ]
  },
  {
   "cell_type": "code",
   "execution_count": 9,
   "id": "8ff405c4",
   "metadata": {},
   "outputs": [
    {
     "data": {
      "text/plain": [
       "[StateSnapshot(values={'topic': 'burgers', 'joke': 'Why did the burger go to the gym?\\n\\nBecause it wanted to get better buns! 🍔💪', 'explanation': 'This joke plays on a double meaning of the word \"buns.\" In the context of a burger, \"buns\" refers to the bread that holds the burger together. However, \"buns\" is also a colloquial term for a person\\'s buttocks, often associated with fitness and body shape. \\n\\nThe humor comes from the unexpected twist: the burger, a food item, is anthropomorphized as if it has personal goals and desires, like wanting to improve its physical appearance. The punchline suggests that the burger wants to \"get better buns\" in both senses—having tastier bread and, humorously, a better-looking backside. The combination of food and fitness creates a lighthearted and playful image, making the joke amusing.'}, next=(), config={'configurable': {'thread_id': '1', 'checkpoint_ns': '', 'checkpoint_id': '1f0a420d-b8fb-6d84-8002-c784fbbe1ac9'}}, metadata={'source': 'loop', 'step': 2, 'parents': {}}, created_at='2025-10-08T08:29:07.802427+00:00', parent_config={'configurable': {'thread_id': '1', 'checkpoint_ns': '', 'checkpoint_id': '1f0a420d-8a2f-6b18-8001-43f565e19f12'}}, tasks=(), interrupts=()),\n",
       " StateSnapshot(values={'topic': 'burgers', 'joke': 'Why did the burger go to the gym?\\n\\nBecause it wanted to get better buns! 🍔💪'}, next=('generate_explanation',), config={'configurable': {'thread_id': '1', 'checkpoint_ns': '', 'checkpoint_id': '1f0a420d-8a2f-6b18-8001-43f565e19f12'}}, metadata={'source': 'loop', 'step': 1, 'parents': {}}, created_at='2025-10-08T08:29:02.895365+00:00', parent_config={'configurable': {'thread_id': '1', 'checkpoint_ns': '', 'checkpoint_id': '1f0a420d-7b38-64e8-8000-7acce5019651'}}, tasks=(PregelTask(id='e8d8b7ef-6a3f-05ab-7a4d-f1e105a9e0e0', name='generate_explanation', path=('__pregel_pull', 'generate_explanation'), error=None, interrupts=(), state=None, result={'explanation': 'This joke plays on a double meaning of the word \"buns.\" In the context of a burger, \"buns\" refers to the bread that holds the burger together. However, \"buns\" is also a colloquial term for a person\\'s buttocks, often associated with fitness and body shape. \\n\\nThe humor comes from the unexpected twist: the burger, a food item, is anthropomorphized as if it has personal goals and desires, like wanting to improve its physical appearance. The punchline suggests that the burger wants to \"get better buns\" in both senses—having tastier bread and, humorously, a better-looking backside. The combination of food and fitness creates a lighthearted and playful image, making the joke amusing.'}),), interrupts=()),\n",
       " StateSnapshot(values={'topic': 'burgers'}, next=('generate_joke',), config={'configurable': {'thread_id': '1', 'checkpoint_ns': '', 'checkpoint_id': '1f0a420d-7b38-64e8-8000-7acce5019651'}}, metadata={'source': 'loop', 'step': 0, 'parents': {}}, created_at='2025-10-08T08:29:01.326036+00:00', parent_config={'configurable': {'thread_id': '1', 'checkpoint_ns': '', 'checkpoint_id': '1f0a420d-7b32-62d2-bfff-65eec73b206b'}}, tasks=(PregelTask(id='e6c24abe-7312-8bda-553e-e08bfbb0f20d', name='generate_joke', path=('__pregel_pull', 'generate_joke'), error=None, interrupts=(), state=None, result={'joke': 'Why did the burger go to the gym?\\n\\nBecause it wanted to get better buns! 🍔💪'}),), interrupts=()),\n",
       " StateSnapshot(values={}, next=('__start__',), config={'configurable': {'thread_id': '1', 'checkpoint_ns': '', 'checkpoint_id': '1f0a420d-7b32-62d2-bfff-65eec73b206b'}}, metadata={'source': 'input', 'step': -1, 'parents': {}}, created_at='2025-10-08T08:29:01.323522+00:00', parent_config=None, tasks=(PregelTask(id='bf49f1da-4c7f-ecbf-ef2b-2675b61d62ef', name='__start__', path=('__pregel_pull', '__start__'), error=None, interrupts=(), state=None, result={'topic': 'burgers'}),), interrupts=())]"
      ]
     },
     "execution_count": 9,
     "metadata": {},
     "output_type": "execute_result"
    }
   ],
   "source": [
    "list(workflow.get_state_history(config1))"
   ]
  },
  {
   "cell_type": "code",
   "execution_count": 10,
   "id": "cf9fc4be",
   "metadata": {},
   "outputs": [
    {
     "data": {
      "text/plain": [
       "{'topic': 'programming',\n",
       " 'joke': 'Why do programmers prefer dark mode?\\n\\nBecause light attracts bugs!',\n",
       " 'explanation': 'This joke plays on a double meaning of the word \"bugs.\" \\n\\nIn the context of programming, \"bugs\" refer to errors or flaws in software code that can cause it to behave unexpectedly. Programmers often spend a lot of time debugging their code to find and fix these issues.\\n\\nOn the other hand, in a more literal sense, \"bugs\" can refer to insects, which are often attracted to light. This is a common observation; for example, you might see moths flying around a light bulb at night.\\n\\nThe humor comes from the clever wordplay: programmers prefer dark mode (a display setting with a dark background and light text) because, in a humorous twist, it suggests that using dark mode helps them avoid attracting \"bugs\" (both the software errors and the insects). It\\'s a light-hearted way to highlight a common preference among programmers while also making a pun.'}"
      ]
     },
     "execution_count": 10,
     "metadata": {},
     "output_type": "execute_result"
    }
   ],
   "source": [
    "config2 = {\"configurable\": {\"thread_id\": \"2\"}}\n",
    "workflow.invoke({\"topic\": \"programming\"}, config=config2)"
   ]
  },
  {
   "cell_type": "code",
   "execution_count": 11,
   "id": "56103fef",
   "metadata": {},
   "outputs": [
    {
     "data": {
      "text/plain": [
       "StateSnapshot(values={'topic': 'programming', 'joke': 'Why do programmers prefer dark mode?\\n\\nBecause light attracts bugs!', 'explanation': 'This joke plays on a double meaning of the word \"bugs.\" \\n\\nIn the context of programming, \"bugs\" refer to errors or flaws in software code that can cause it to behave unexpectedly. Programmers often spend a lot of time debugging their code to find and fix these issues.\\n\\nOn the other hand, in a more literal sense, \"bugs\" can refer to insects, which are often attracted to light. This is a common observation; for example, you might see moths flying around a light bulb at night.\\n\\nThe humor comes from the clever wordplay: programmers prefer dark mode (a display setting with a dark background and light text) because, in a humorous twist, it suggests that using dark mode helps them avoid attracting \"bugs\" (both the software errors and the insects). It\\'s a light-hearted way to highlight a common preference among programmers while also making a pun.'}, next=(), config={'configurable': {'thread_id': '2', 'checkpoint_ns': '', 'checkpoint_id': '1f0a4214-a5e0-682e-8002-3fac7f2c1809'}}, metadata={'source': 'loop', 'step': 2, 'parents': {}}, created_at='2025-10-08T08:32:13.703660+00:00', parent_config={'configurable': {'thread_id': '2', 'checkpoint_ns': '', 'checkpoint_id': '1f0a4214-8f06-6176-8001-46c6167ef5af'}}, tasks=(), interrupts=())"
      ]
     },
     "execution_count": 11,
     "metadata": {},
     "output_type": "execute_result"
    }
   ],
   "source": [
    "workflow.get_state(config2)"
   ]
  },
  {
   "cell_type": "code",
   "execution_count": 12,
   "id": "cf07ac33",
   "metadata": {},
   "outputs": [
    {
     "data": {
      "text/plain": [
       "[StateSnapshot(values={'topic': 'programming', 'joke': 'Why do programmers prefer dark mode?\\n\\nBecause light attracts bugs!', 'explanation': 'This joke plays on a double meaning of the word \"bugs.\" \\n\\nIn the context of programming, \"bugs\" refer to errors or flaws in software code that can cause it to behave unexpectedly. Programmers often spend a lot of time debugging their code to find and fix these issues.\\n\\nOn the other hand, in a more literal sense, \"bugs\" can refer to insects, which are often attracted to light. This is a common observation; for example, you might see moths flying around a light bulb at night.\\n\\nThe humor comes from the clever wordplay: programmers prefer dark mode (a display setting with a dark background and light text) because, in a humorous twist, it suggests that using dark mode helps them avoid attracting \"bugs\" (both the software errors and the insects). It\\'s a light-hearted way to highlight a common preference among programmers while also making a pun.'}, next=(), config={'configurable': {'thread_id': '2', 'checkpoint_ns': '', 'checkpoint_id': '1f0a4214-a5e0-682e-8002-3fac7f2c1809'}}, metadata={'source': 'loop', 'step': 2, 'parents': {}}, created_at='2025-10-08T08:32:13.703660+00:00', parent_config={'configurable': {'thread_id': '2', 'checkpoint_ns': '', 'checkpoint_id': '1f0a4214-8f06-6176-8001-46c6167ef5af'}}, tasks=(), interrupts=()),\n",
       " StateSnapshot(values={'topic': 'programming', 'joke': 'Why do programmers prefer dark mode?\\n\\nBecause light attracts bugs!'}, next=('generate_explanation',), config={'configurable': {'thread_id': '2', 'checkpoint_ns': '', 'checkpoint_id': '1f0a4214-8f06-6176-8001-46c6167ef5af'}}, metadata={'source': 'loop', 'step': 1, 'parents': {}}, created_at='2025-10-08T08:32:11.307414+00:00', parent_config={'configurable': {'thread_id': '2', 'checkpoint_ns': '', 'checkpoint_id': '1f0a4214-7f2c-6f66-8000-d1070ace5cd9'}}, tasks=(PregelTask(id='32c46ee2-4372-1aa2-03bc-e3fbe9bd29fa', name='generate_explanation', path=('__pregel_pull', 'generate_explanation'), error=None, interrupts=(), state=None, result={'explanation': 'This joke plays on a double meaning of the word \"bugs.\" \\n\\nIn the context of programming, \"bugs\" refer to errors or flaws in software code that can cause it to behave unexpectedly. Programmers often spend a lot of time debugging their code to find and fix these issues.\\n\\nOn the other hand, in a more literal sense, \"bugs\" can refer to insects, which are often attracted to light. This is a common observation; for example, you might see moths flying around a light bulb at night.\\n\\nThe humor comes from the clever wordplay: programmers prefer dark mode (a display setting with a dark background and light text) because, in a humorous twist, it suggests that using dark mode helps them avoid attracting \"bugs\" (both the software errors and the insects). It\\'s a light-hearted way to highlight a common preference among programmers while also making a pun.'}),), interrupts=()),\n",
       " StateSnapshot(values={'topic': 'programming'}, next=('generate_joke',), config={'configurable': {'thread_id': '2', 'checkpoint_ns': '', 'checkpoint_id': '1f0a4214-7f2c-6f66-8000-d1070ace5cd9'}}, metadata={'source': 'loop', 'step': 0, 'parents': {}}, created_at='2025-10-08T08:32:09.645591+00:00', parent_config={'configurable': {'thread_id': '2', 'checkpoint_ns': '', 'checkpoint_id': '1f0a4214-7f28-69b6-bfff-d0aa4ad05025'}}, tasks=(PregelTask(id='ba597525-ca8d-a070-6f25-25d428414352', name='generate_joke', path=('__pregel_pull', 'generate_joke'), error=None, interrupts=(), state=None, result={'joke': 'Why do programmers prefer dark mode?\\n\\nBecause light attracts bugs!'}),), interrupts=()),\n",
       " StateSnapshot(values={}, next=('__start__',), config={'configurable': {'thread_id': '2', 'checkpoint_ns': '', 'checkpoint_id': '1f0a4214-7f28-69b6-bfff-d0aa4ad05025'}}, metadata={'source': 'input', 'step': -1, 'parents': {}}, created_at='2025-10-08T08:32:09.643865+00:00', parent_config=None, tasks=(PregelTask(id='69665662-d895-7dc8-c45b-8d36cfd8d5d4', name='__start__', path=('__pregel_pull', '__start__'), error=None, interrupts=(), state=None, result={'topic': 'programming'}),), interrupts=())]"
      ]
     },
     "execution_count": 12,
     "metadata": {},
     "output_type": "execute_result"
    }
   ],
   "source": [
    "list(workflow.get_state_history(config2))"
   ]
  },
  {
   "cell_type": "markdown",
   "id": "ea324f9b",
   "metadata": {},
   "source": [
    "### Time Travel"
   ]
  },
  {
   "cell_type": "code",
   "execution_count": 14,
   "id": "2718a4a0",
   "metadata": {},
   "outputs": [
    {
     "data": {
      "text/plain": [
       "StateSnapshot(values={'topic': 'burgers'}, next=('generate_joke',), config={'configurable': {'thread_id': '1', 'checkpoint_id': '1f0a420d-7b38-64e8-8000-7acce5019651'}}, metadata={'source': 'loop', 'step': 0, 'parents': {}}, created_at='2025-10-08T08:29:01.326036+00:00', parent_config={'configurable': {'thread_id': '1', 'checkpoint_ns': '', 'checkpoint_id': '1f0a420d-7b32-62d2-bfff-65eec73b206b'}}, tasks=(PregelTask(id='e6c24abe-7312-8bda-553e-e08bfbb0f20d', name='generate_joke', path=('__pregel_pull', 'generate_joke'), error=None, interrupts=(), state=None, result={'joke': 'Why did the burger go to the gym?\\n\\nBecause it wanted to get better buns! 🍔💪'}),), interrupts=())"
      ]
     },
     "execution_count": 14,
     "metadata": {},
     "output_type": "execute_result"
    }
   ],
   "source": [
    "workflow.get_state({\"configurable\": {\"thread_id\": \"1\", \"checkpoint_id\": \"1f0a420d-7b38-64e8-8000-7acce5019651\"}})"
   ]
  },
  {
   "cell_type": "code",
   "execution_count": 15,
   "id": "f41c295d",
   "metadata": {},
   "outputs": [
    {
     "data": {
      "text/plain": [
       "{'topic': 'burgers',\n",
       " 'joke': 'Why did the burger go to the gym?\\n\\nBecause it wanted to get better buns! 🍔💪',\n",
       " 'explanation': 'This joke plays on a double meaning of the word \"buns.\" In the context of a burger, \"buns\" refers to the bread that holds the burger together. However, \"buns\" is also a colloquial term for a person\\'s buttocks, often associated with fitness and body shape. \\n\\nThe humor comes from the idea of a burger, which is typically seen as an unhealthy food, wanting to improve its \"buns\" by going to the gym, as if it were a person trying to get in shape. The unexpected personification of the burger and the clever wordplay create a lighthearted and amusing punchline. The emoji adds a fun visual element, reinforcing the fitness theme.'}"
      ]
     },
     "execution_count": 15,
     "metadata": {},
     "output_type": "execute_result"
    }
   ],
   "source": [
    "workflow.invoke(None, {\"configurable\": {\"thread_id\": \"1\", \"checkpoint_id\": \"1f0a420d-7b38-64e8-8000-7acce5019651\"}})  # should be instant"
   ]
  },
  {
   "cell_type": "code",
   "execution_count": null,
   "id": "65f4126d",
   "metadata": {},
   "outputs": [],
   "source": []
  }
 ],
 "metadata": {
  "kernelspec": {
   "display_name": "venv",
   "language": "python",
   "name": "python3"
  },
  "language_info": {
   "codemirror_mode": {
    "name": "ipython",
    "version": 3
   },
   "file_extension": ".py",
   "mimetype": "text/x-python",
   "name": "python",
   "nbconvert_exporter": "python",
   "pygments_lexer": "ipython3",
   "version": "3.12.7"
  }
 },
 "nbformat": 4,
 "nbformat_minor": 5
}
