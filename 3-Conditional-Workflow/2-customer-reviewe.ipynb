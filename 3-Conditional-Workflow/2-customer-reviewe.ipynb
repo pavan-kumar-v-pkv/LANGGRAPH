{
 "cells": [
  {
   "cell_type": "code",
   "execution_count": 1,
   "id": "cc910a1c",
   "metadata": {},
   "outputs": [],
   "source": [
    "from langgraph.graph import StateGraph, START, END\n",
    "from typing import TypedDict, Literal\n",
    "from langchain_openai import ChatOpenAI\n",
    "from dotenv import load_dotenv\n",
    "from pydantic import BaseModel, Field"
   ]
  },
  {
   "cell_type": "code",
   "execution_count": 2,
   "id": "b7c90941",
   "metadata": {},
   "outputs": [
    {
     "data": {
      "text/plain": [
       "True"
      ]
     },
     "execution_count": 2,
     "metadata": {},
     "output_type": "execute_result"
    }
   ],
   "source": [
    "load_dotenv()"
   ]
  },
  {
   "cell_type": "code",
   "execution_count": 3,
   "id": "0699541f",
   "metadata": {},
   "outputs": [],
   "source": [
    "model = ChatOpenAI(model_name=\"gpt-4o-mini\")"
   ]
  },
  {
   "cell_type": "code",
   "execution_count": 4,
   "id": "491b3322",
   "metadata": {},
   "outputs": [],
   "source": [
    "class SentimentSchema(BaseModel):\n",
    "    sentiment: Literal['positive', 'negative', 'neutral'] = Field(description=\"The sentiment of the review\")"
   ]
  },
  {
   "cell_type": "code",
   "execution_count": 14,
   "id": "621d67e3",
   "metadata": {},
   "outputs": [],
   "source": [
    "class DiagnosisSchema(BaseModel):\n",
    "    issue_type: Literal[\"UX\", \"Performance\", \"Bug\", \"Support\", \"Other\"] = Field(description=\"List of issues mentioned in the review\")\n",
    "    tone: Literal[\"angry\", \"frustrated\", \"disappointed\", \"calm\"] = Field(description=\"Tone of the review\")\n",
    "    urgency: Literal[\"Low\", \"Medium\", \"High\"] = Field(description=\"Urgency level of the review\")"
   ]
  },
  {
   "cell_type": "code",
   "execution_count": 5,
   "id": "755aba34",
   "metadata": {},
   "outputs": [],
   "source": [
    "structured_model = model.with_structured_output(SentimentSchema)"
   ]
  },
  {
   "cell_type": "code",
   "execution_count": 15,
   "id": "2baa4ad3",
   "metadata": {},
   "outputs": [],
   "source": [
    "structured_diagnosis_model = model.with_structured_output(DiagnosisSchema)"
   ]
  },
  {
   "cell_type": "code",
   "execution_count": 6,
   "id": "e1a1af74",
   "metadata": {},
   "outputs": [
    {
     "data": {
      "text/plain": [
       "SentimentSchema(sentiment='positive')"
      ]
     },
     "execution_count": 6,
     "metadata": {},
     "output_type": "execute_result"
    }
   ],
   "source": [
    "prompt = \"What is the sentiment of the following review? Review: 'The product was excellent and met all my expectations.'\"\n",
    "structured_model.invoke(prompt)"
   ]
  },
  {
   "cell_type": "code",
   "execution_count": 7,
   "id": "1e8b8efe",
   "metadata": {},
   "outputs": [],
   "source": [
    "class ReviewState(TypedDict):\n",
    "    review: str\n",
    "    sentiment: Literal['positive', 'negative']\n",
    "    diagnosis: dict\n",
    "    response: str\n"
   ]
  },
  {
   "cell_type": "code",
   "execution_count": null,
   "id": "c16695de",
   "metadata": {},
   "outputs": [],
   "source": [
    "def find_sentiment(state: ReviewState) -> ReviewState:\n",
    "    prompt = f\"What is the sentiment of the following review? Review: '{state['review']}'\"\n",
    "    result = structured_model.invoke(prompt).sentiment\n",
    "    return {'sentiment': result}\n",
    "\n",
    "def check_sentiment(state: ReviewState) -> Literal['positive_response', 'run_diagnosis']:\n",
    "    if state['sentiment'] == 'positive':\n",
    "        return 'positive_response'\n",
    "    else:\n",
    "        return 'run_diagnosis'\n",
    "\n",
    "def positive_response(state: ReviewState):\n",
    "    prompt = f\"Write a warm thank you message in response to this review: \\n\\n {state['review']}.\\nAlso, kindly ask the user to leave feedback on our website.\"\n",
    "    response = model.invoke(prompt).content\n",
    "    return {'response': response}\n",
    "\n",
    "def run_diagnosis(state: ReviewState):\n",
    "    prompt = f\"Analyze the following negative review and provide issue_type, tone and urgency: '{state['review']}'\"\n",
    "    diagnosis = structured_diagnosis_model.invoke(prompt)\n",
    "    return {'diagnosis': diagnosis.model_dump()}\n",
    "\n",
    "def negative_response(state: ReviewState):\n",
    "    prompt = f\"\"\"\n",
    "You are a support assistant. The user had a '{state['diagnosis']['tone']}' tone in their review and the urgency level is '{state['diagnosis']['urgency']}'.\n",
    "Based on the diagnosis '{state['diagnosis']}', draft a compassionate and helpful response to the following review: '{state['review']}'.\n",
    "\"\"\"\n",
    "    response = model.invoke(prompt).content\n",
    "    return {'response': response}"
   ]
  },
  {
   "cell_type": "code",
   "execution_count": null,
   "id": "5a1fc66c",
   "metadata": {},
   "outputs": [],
   "source": [
    "graph = StateGraph(ReviewState)\n",
    "\n",
    "graph.add_node('find_sentiment', find_sentiment)\n",
    "graph.add_node('positive_response', positive_response)\n",
    "graph.add_node('run_diagnosis', run_diagnosis)\n",
    "graph.add_node('negative_response', negative_response)\n",
    "\n",
    "graph.add_edge(START, 'find_sentiment')\n",
    "graph.add_edge('find_sentiment', END)\n",
    "\n",
    "workflow = graph.compile()"
   ]
  },
  {
   "cell_type": "code",
   "execution_count": 11,
   "id": "ed17fc90",
   "metadata": {},
   "outputs": [
    {
     "data": {
      "image/png": "[encoded data removed]",
      "text/plain": [
       "<langgraph.graph.state.CompiledStateGraph object at 0x1171a0b30>"
      ]
     },
     "execution_count": 11,
     "metadata": {},
     "output_type": "execute_result"
    }
   ],
   "source": [
    "workflow"
   ]
  },
  {
   "cell_type": "code",
   "execution_count": 13,
   "id": "a2fd120c",
   "metadata": {},
   "outputs": [
    {
     "data": {
      "text/plain": [
       "{'review': 'The product was bad and did not meet my expectations.',\n",
       " 'sentiment': 'negative'}"
      ]
     },
     "execution_count": 13,
     "metadata": {},
     "output_type": "execute_result"
    }
   ],
   "source": [
    "initial_state = {\n",
    "    'review': \"The product was bad and did not meet my expectations.\"\n",
    "}\n",
    "workflow.invoke(initial_state)"
   ]
  },
  {
   "cell_type": "code",
   "execution_count": null,
   "id": "2fae96cd",
   "metadata": {},
   "outputs": [],
   "source": []
  }
 ],
 "metadata": {
  "kernelspec": {
   "display_name": "venv",
   "language": "python",
   "name": "python3"
  },
  "language_info": {
   "codemirror_mode": {
    "name": "ipython",
    "version": 3
   },
   "file_extension": ".py",
   "mimetype": "text/x-python",
   "name": "python",
   "nbconvert_exporter": "python",
   "pygments_lexer": "ipython3",
   "version": "3.12.7"
  }
 },
 "nbformat": 4,
 "nbformat_minor": 5
}
