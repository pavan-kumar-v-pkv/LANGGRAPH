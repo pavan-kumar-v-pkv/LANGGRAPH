{
 "cells": [
  {
   "cell_type": "code",
   "execution_count": 1,
   "id": "73704fdc",
   "metadata": {},
   "outputs": [],
   "source": [
    "from langgraph.graph import StateGraph, START, END\n",
    "from typing import TypedDict, Literal"
   ]
  },
  {
   "cell_type": "code",
   "execution_count": 2,
   "id": "c8b8ca39",
   "metadata": {},
   "outputs": [],
   "source": [
    "class QuadState(TypedDict):\n",
    "    a: float\n",
    "    b: float\n",
    "    c: float\n",
    "\n",
    "    equation: str\n",
    "    discriminant: float\n",
    "    result: str"
   ]
  },
  {
   "cell_type": "code",
   "execution_count": 3,
   "id": "009cc9b2",
   "metadata": {},
   "outputs": [],
   "source": [
    "def show_equation(state: QuadState):\n",
    "    equation = f\"{state['a']}x² + {state['b']}x + {state['c']} = 0\"\n",
    "    return {'equation': equation}\n",
    "\n",
    "def calculate_discriminant(state: QuadState):\n",
    "    d = state['b']**2 - 4 * state['a'] * state['c']\n",
    "    return {'discriminant': d}"
   ]
  },
  {
   "cell_type": "code",
   "execution_count": null,
   "id": "4051418b",
   "metadata": {},
   "outputs": [],
   "source": [
    "def real_roots(state: QuadState):\n",
    "    d = state['discriminant']\n",
    "    root1 = (-state['b'] + d**0.5) / (2 * state['a'])\n",
    "    root2 = (-state['b'] - d**0.5) / (2 * state['a'])\n",
    "    result = f\"Two real roots: {root1} and {root2}\"\n",
    "    return {'result': result}\n",
    "\n",
    "def repeated_roots(state: QuadState):\n",
    "    root = -state['b'] / (2 * state['a'])\n",
    "    result = f\"One repeated real root: {root}\"\n",
    "    return {'result': result}\n",
    "\n",
    "def no_real_roots(state: QuadState):\n",
    "    result = \"No real roots\"\n",
    "    return {'result': result}\n",
    "\n",
    "def check_condition(state: QuadState) -> Literal['real_roots', 'repeated_roots', 'no_real_roots']:\n",
    "    d = state['discriminant']\n",
    "    if d > 0:\n",
    "        return 'real_roots'\n",
    "    elif d == 0:\n",
    "        return 'repeated_roots'\n",
    "    else:\n",
    "        return 'no_real_roots'"
   ]
  },
  {
   "cell_type": "code",
   "execution_count": null,
   "id": "6a74016f",
   "metadata": {},
   "outputs": [],
   "source": [
    "graph = StateGraph(QuadState)\n",
    "\n",
    "graph.add_node('show_equation', show_equation)\n",
    "graph.add_node('calculate_discriminant', calculate_discriminant)\n",
    "graph.add_node('real_roots', real_roots)\n",
    "graph.add_node('repeated_roots', repeated_roots)\n",
    "graph.add_node('no_real_roots', no_real_roots)\n",
    "\n",
    "graph.add_edge(START, 'show_equation')\n",
    "graph.add_edge('show_equation', 'calculate_discriminant')\n",
    "graph.add_conditional_edges('calculate_discriminant', check_condition)\n",
    "graph.add_edge('real_roots', END)\n",
    "graph.add_edge('repeated_roots', END)\n",
    "graph.add_edge('no_real_roots', END)\n",
    "\n",
    "workflow = graph.compile()"
   ]
  },
  {
   "cell_type": "code",
   "execution_count": 5,
   "id": "b804ab05",
   "metadata": {},
   "outputs": [
    {
     "data": {
      "image/png": "[encoded data removed]",
      "text/plain": [
       "<langgraph.graph.state.CompiledStateGraph object at 0x11aaa6720>"
      ]
     },
     "execution_count": 5,
     "metadata": {},
     "output_type": "execute_result"
    }
   ],
   "source": [
    "workflow"
   ]
  },
  {
   "cell_type": "code",
   "execution_count": 7,
   "id": "f9500aff",
   "metadata": {},
   "outputs": [
    {
     "data": {
      "text/plain": [
       "{'a': 1, 'b': -3, 'c': 2, 'equation': '1x² + -3x + 2 = 0', 'discriminant': 1}"
      ]
     },
     "execution_count": 7,
     "metadata": {},
     "output_type": "execute_result"
    }
   ],
   "source": [
    "initial_state = {'a': 1, 'b': -3, 'c': 2}\n",
    "result = workflow.invoke(initial_state)\n",
    "result"
   ]
  },
  {
   "cell_type": "code",
   "execution_count": null,
   "id": "3434ee68",
   "metadata": {},
   "outputs": [],
   "source": []
  }
 ],
 "metadata": {
  "kernelspec": {
   "display_name": "venv",
   "language": "python",
   "name": "python3"
  },
  "language_info": {
   "codemirror_mode": {
    "name": "ipython",
    "version": 3
   },
   "file_extension": ".py",
   "mimetype": "text/x-python",
   "name": "python",
   "nbconvert_exporter": "python",
   "pygments_lexer": "ipython3",
   "version": "3.12.7"
  }
 },
 "nbformat": 4,
 "nbformat_minor": 5
}
